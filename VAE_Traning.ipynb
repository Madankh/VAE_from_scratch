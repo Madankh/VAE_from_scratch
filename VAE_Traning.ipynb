{
 "cells": [
  {
   "cell_type": "code",
   "execution_count": 12,
   "id": "0b36d3b1-bc3f-471b-9034-f9bcabf2bdf9",
   "metadata": {},
   "outputs": [
    {
     "name": "stdout",
     "output_type": "stream",
     "text": [
      "Requirement already satisfied: torch in c:\\users\\madan\\anaconda3\\lib\\site-packages (2.3.1)\n",
      "Requirement already satisfied: torchvision in c:\\users\\madan\\anaconda3\\lib\\site-packages (0.18.1)\n",
      "Requirement already satisfied: torchaudio in c:\\users\\madan\\anaconda3\\lib\\site-packages (2.3.1)\n",
      "Requirement already satisfied: filelock in c:\\users\\madan\\anaconda3\\lib\\site-packages (from torch) (3.13.1)\n",
      "Requirement already satisfied: typing-extensions>=4.8.0 in c:\\users\\madan\\anaconda3\\lib\\site-packages (from torch) (4.9.0)\n",
      "Requirement already satisfied: sympy in c:\\users\\madan\\anaconda3\\lib\\site-packages (from torch) (1.12)\n",
      "Requirement already satisfied: networkx in c:\\users\\madan\\anaconda3\\lib\\site-packages (from torch) (3.1)\n",
      "Requirement already satisfied: jinja2 in c:\\users\\madan\\anaconda3\\lib\\site-packages (from torch) (3.1.3)\n",
      "Requirement already satisfied: fsspec in c:\\users\\madan\\anaconda3\\lib\\site-packages (from torch) (2023.10.0)\n",
      "Requirement already satisfied: mkl<=2021.4.0,>=2021.1.1 in c:\\users\\madan\\anaconda3\\lib\\site-packages (from torch) (2021.4.0)\n",
      "Requirement already satisfied: numpy in c:\\users\\madan\\anaconda3\\lib\\site-packages (from torchvision) (1.26.4)\n",
      "Requirement already satisfied: pillow!=8.3.*,>=5.3.0 in c:\\users\\madan\\anaconda3\\lib\\site-packages (from torchvision) (10.2.0)\n",
      "Requirement already satisfied: intel-openmp==2021.* in c:\\users\\madan\\anaconda3\\lib\\site-packages (from mkl<=2021.4.0,>=2021.1.1->torch) (2021.4.0)\n",
      "Requirement already satisfied: tbb==2021.* in c:\\users\\madan\\anaconda3\\lib\\site-packages (from mkl<=2021.4.0,>=2021.1.1->torch) (2021.12.0)\n",
      "Requirement already satisfied: MarkupSafe>=2.0 in c:\\users\\madan\\anaconda3\\lib\\site-packages (from jinja2->torch) (2.1.3)\n",
      "Requirement already satisfied: mpmath>=0.19 in c:\\users\\madan\\anaconda3\\lib\\site-packages (from sympy->torch) (1.3.0)\n"
     ]
    }
   ],
   "source": [
    "!pip install torch torchvision torchaudio"
   ]
  },
  {
   "cell_type": "code",
   "execution_count": 13,
   "id": "d0c059fc-67e3-4176-8de8-4f519d918892",
   "metadata": {},
   "outputs": [],
   "source": [
    "import torch\n",
    "import torch.nn as nn\n",
    "import torch.functional as F\n",
    "import numpy as np"
   ]
  },
  {
   "cell_type": "code",
   "execution_count": 14,
   "id": "a70aaf88-e25f-485c-9669-76d8bb857813",
   "metadata": {},
   "outputs": [],
   "source": [
    "import torchvision.datasets as datasets"
   ]
  },
  {
   "cell_type": "code",
   "execution_count": 15,
   "id": "92fc7f49-3066-48b8-b233-b4387ed60887",
   "metadata": {},
   "outputs": [],
   "source": [
    "dataset_path=\"~/datasets\"\n",
    "device = torch.device(\"cuda\" if torch.cuda.is_available() else \"cpu\")\n",
    "data_dim = 784 # each image is 28*28 = 784 pixels\n",
    "batch_size = 100\n",
    "hidden_dim = 400\n",
    "latent_dim = 200\n",
    "learning_rate = 1e-4\n",
    "epochs = 30"
   ]
  },
  {
   "cell_type": "code",
   "execution_count": 16,
   "id": "2f673b8c-0c13-45ac-87f2-a02f3acca6fd",
   "metadata": {},
   "outputs": [],
   "source": [
    "from torchvision.datasets import MNIST\n",
    "import torchvision.transforms as transforms\n",
    "from torch.utils.data import DataLoader\n",
    "\n",
    "# MNIST\n",
    "mnist_transform = transforms.Compose([\n",
    "    transforms.ToTensor()\n",
    "])\n",
    "\n",
    "kwargs = {'num_workers':1, 'pin_memory':True}\n",
    "train_dataset = MNIST(dataset_path, transform=mnist_transform,train=True, download=True)\n",
    "test_dataset = MNIST(dataset_path, transform=mnist_transform, train=False, download=False)\n",
    "\n",
    "train_loader = DataLoader(dataset=train_dataset, batch_size = batch_size, shuffle=True,**kwargs)\n",
    "test_loader = DataLoader(dataset=test_dataset, batch_size = batch_size,shuffle=True , **kwargs)"
   ]
  },
  {
   "cell_type": "code",
   "execution_count": 17,
   "id": "d4587363-6b5c-4feb-a0b6-b4aa86d5b25e",
   "metadata": {},
   "outputs": [],
   "source": [
    "class Encoder(nn.Module):\n",
    "    def __init__(self, input_dim, hidden_dim , latent_dim):\n",
    "        super(Encoder, self).__init__()\n",
    "        # Hidden layers used to process the inputs before converting to latents\n",
    "        self.hidden_layer = nn.Sequential(\n",
    "            nn.Linear(input_dim, hidden_dim),\n",
    "            nn.ReLU(0.2),\n",
    "            nn.Linear(hidden_dim , hidden_dim),\n",
    "            nn.LeakyReLU(0.2)\n",
    "        )\n",
    "        # Laten representations encoded into mean and lo variance vector\n",
    "        self.mean = nn.Linear(hidden_dim, latent_dim)\n",
    "        self.log_variance = nn.Linear(hidden_dim, latent_dim)\n",
    "        self.training = True\n",
    "    def forward(self, x):\n",
    "        hidden = self.hidden_layer(x)\n",
    "        mean = self.mean(hidden)\n",
    "        log_variance = self.log_variance(hidden)\n",
    "        return mean, log_variance"
   ]
  },
  {
   "cell_type": "code",
   "execution_count": 18,
   "id": "dafee466-933c-4d33-98ec-90d6982d2a2c",
   "metadata": {},
   "outputs": [],
   "source": [
    "class Decoder(nn.Module):\n",
    "    def __init__(self, latent_dim, hidden_dim, output_dim):\n",
    "        super(Decoder , self).__init__()\n",
    "        self.hidden_layer = nn.Sequential(\n",
    "            nn.Linear(latent_dim , hidden_dim),\n",
    "            nn.LeakyReLU(0.2),\n",
    "            nn.Linear(hidden_dim , hidden_dim),\n",
    "            nn.LeakyReLU(0.2),\n",
    "            nn.Linear(hidden_dim , output_dim)\n",
    "        )\n",
    "    def forward(self, x):\n",
    "        hidden = self.hidden_layer(x)\n",
    "        x_hat = torch.sigmoid(hidden)\n",
    "        return x_hat"
   ]
  },
  {
   "cell_type": "code",
   "execution_count": 28,
   "id": "ca3dba02-801a-4fb4-ab8f-91e870d11dc7",
   "metadata": {},
   "outputs": [],
   "source": [
    "class Model(nn.Module):\n",
    "    def __init__(self, Encoder , Decoder):\n",
    "        super(Model, self).__init__()\n",
    "        self.Encoder = Encoder\n",
    "        self.Decoder = Decoder\n",
    "    def reparameterization(self , mean , variance):\n",
    "        epslion = torch.randn_like(variance).to(device)\n",
    "        z = mean + variance * epslion\n",
    "        return z\n",
    "    def forward(self, x):\n",
    "        mean , log_variance = self.Encoder(x)\n",
    "        # Use the reparameterization trick to keep randomness differentiable \n",
    "        z = self.reparameterization(mean, torch.exp(0.5 * log_variance))\n",
    "        x_hat = self.Decoder(z)\n",
    "        return x_hat, mean , log_variance\n",
    "        "
   ]
  },
  {
   "cell_type": "code",
   "execution_count": 29,
   "id": "642d8298-3b1e-4fb1-9c3c-9264b1af1d5d",
   "metadata": {},
   "outputs": [],
   "source": [
    "encoder = Encoder(input_dim=data_dim, hidden_dim=hidden_dim, latent_dim=latent_dim)\n",
    "decoder = Decoder(latent_dim=latent_dim, hidden_dim=hidden_dim, output_dim = data_dim)\n",
    "\n",
    "model = Model(Encoder=encoder, Decoder=decoder).to(device)"
   ]
  },
  {
   "cell_type": "code",
   "execution_count": 30,
   "id": "9d263a45-e3d1-4841-8612-8066f8bbe330",
   "metadata": {},
   "outputs": [],
   "source": [
    "from torch.optim import Adam\n",
    "def bce_loss(x , x_hat, mean , log_variance):\n",
    "    # reconstruction loss encourages latents to model distribution better \n",
    "    reconstruction_loss = nn.functional.binary_cross_entropy(x_hat, x, reduction='sum')\n",
    "    # Kl div penalize latens from deviating tooo for from gaussion\n",
    "    kl_divergence = -0.5 * torch.sum(1+log_variance - mean.pow(2) - log_variance.exp())\n",
    "    return reconstruction_loss + kl_divergence\n",
    "\n",
    "optimizer = torch.optim.AdamW(model.parameters(), lr=learning_rate)"
   ]
  },
  {
   "cell_type": "code",
   "execution_count": 33,
   "id": "bf5e2d68-8aa7-47f9-b062-f52bcfe38fa6",
   "metadata": {},
   "outputs": [
    {
     "name": "stdout",
     "output_type": "stream",
     "text": [
      "epoch 1 : average loss 178.67416139529425\n",
      "epoch 2 : average loss 131.8007163469063\n",
      "epoch 3 : average loss 118.90000586915693\n",
      "epoch 4 : average loss 114.4904286277911\n",
      "epoch 5 : average loss 111.68894749713064\n",
      "epoch 6 : average loss 110.02432250365192\n",
      "epoch 7 : average loss 108.56211543979549\n",
      "epoch 8 : average loss 107.40566761660058\n",
      "epoch 9 : average loss 106.60327194086499\n",
      "epoch 10 : average loss 105.92848927900668\n",
      "epoch 11 : average loss 105.40957236670492\n",
      "epoch 12 : average loss 104.8920472108462\n",
      "epoch 13 : average loss 104.50051053513668\n",
      "epoch 14 : average loss 104.08471038971201\n",
      "epoch 15 : average loss 103.73186733748956\n",
      "epoch 16 : average loss 103.26219490165902\n",
      "epoch 17 : average loss 103.04608869600375\n",
      "epoch 18 : average loss 102.65869893833472\n",
      "epoch 19 : average loss 102.52666108553318\n",
      "epoch 20 : average loss 102.26652596449811\n",
      "epoch 21 : average loss 102.11287200672997\n",
      "epoch 22 : average loss 101.85222956229131\n",
      "epoch 23 : average loss 101.7031161962646\n",
      "epoch 24 : average loss 101.52189079781407\n",
      "epoch 25 : average loss 101.30771684904528\n",
      "epoch 26 : average loss 101.2451537556083\n",
      "epoch 27 : average loss 101.05000844506469\n",
      "epoch 28 : average loss 100.90592109896703\n",
      "epoch 29 : average loss 100.84042339445952\n",
      "epoch 30 : average loss 100.7117361292258\n"
     ]
    }
   ],
   "source": [
    "model.train()\n",
    "for epoch in range(epochs):\n",
    "    overall_loss = 0\n",
    "    for batch_idx, (x, _) in enumerate(train_loader):\n",
    "        x = x.view(batch_size, data_dim)\n",
    "        x = x.to(device)\n",
    "        optimizer.zero_grad()\n",
    "        x_hat, mean, log_variance = model(x)\n",
    "        loss = bce_loss(x , x_hat , mean , log_variance)\n",
    "        overall_loss += loss.item()\n",
    "        loss.backward()\n",
    "        optimizer.step()\n",
    "    print(f\"epoch {epoch + 1} : average loss {overall_loss / (batch_idx*batch_size)}\")\n",
    "    "
   ]
  },
  {
   "cell_type": "code",
   "execution_count": 36,
   "id": "306daab7-b073-4ac6-bf59-9c24c63aaf06",
   "metadata": {},
   "outputs": [
    {
     "data": {
      "image/png": "[encoded data removed]",
      "text/plain": [
       "<Figure size 640x480 with 2 Axes>"
      ]
     },
     "metadata": {},
     "output_type": "display_data"
    },
    {
     "data": {
      "image/png": "[encoded data removed]",
      "text/plain": [
       "<Figure size 640x480 with 2 Axes>"
      ]
     },
     "metadata": {},
     "output_type": "display_data"
    }
   ],
   "source": [
    "import matplotlib.pyplot as plt\n",
    "from tqdm import tqdm\n",
    "\n",
    "model.eval()\n",
    "\n",
    "def show_image(x, idx, figure=True):\n",
    "    if figure:\n",
    "      fig = plt.figure()\n",
    "\n",
    "    x = x.view(batch_size, 28, 28)\n",
    "    plt.imshow(x[idx].cpu().numpy())\n",
    "\n",
    "def show_comparison(x, x_hat, idx):\n",
    "    fig = plt.figure()\n",
    "    plt.subplot(1, 2, 1)\n",
    "    show_image(x, idx, False)\n",
    "    plt.title(\"Original\")\n",
    "    plt.subplot(1, 2, 2)\n",
    "    show_image(x_hat, idx, False)\n",
    "    plt.title(\"Reconstruction\")\n",
    "\n",
    "x, _ = next(iter(test_loader))\n",
    "with torch.no_grad():\n",
    "      x = x.view(batch_size, data_dim)\n",
    "      x = x.to(device)\n",
    "\n",
    "      x_hat, _, _ = model(x)\n",
    "\n",
    "show_comparison(x, x_hat, 3) # digit 2\n",
    "show_comparison(x, x_hat, 5) # digit 4"
   ]
  },
  {
   "cell_type": "code",
   "execution_count": null,
   "id": "3ca3473c-dfa4-43d3-a1bd-ac0bcc4864b2",
   "metadata": {},
   "outputs": [],
   "source": []
  }
 ],
 "metadata": {
  "kernelspec": {
   "display_name": "Python 3 (ipykernel)",
   "language": "python",
   "name": "python3"
  },
  "language_info": {
   "codemirror_mode": {
    "name": "ipython",
    "version": 3
   },
   "file_extension": ".py",
   "mimetype": "text/x-python",
   "name": "python",
   "nbconvert_exporter": "python",
   "pygments_lexer": "ipython3",
   "version": "3.11.7"
  }
 },
 "nbformat": 4,
 "nbformat_minor": 5
}
